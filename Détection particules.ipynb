{
 "cells": [
  {
   "cell_type": "code",
   "execution_count": 13,
   "metadata": {},
   "outputs": [],
   "source": [
    "# Importation des librairies, environnement qt pour avoir des fenêtres flottantes\n",
    "%matplotlib qt \n",
    "import numpy as np\n",
    "from skimage import io, exposure, morphology\n",
    "from skimage.filters import threshold_local\n",
    "from skimage.measure import regionprops\n",
    "from skimage.segmentation import watershed\n",
    "from scipy import ndimage as ndi\n",
    "import matplotlib.pyplot as plt"
   ]
  },
  {
   "cell_type": "code",
   "execution_count": 4,
   "metadata": {},
   "outputs": [],
   "source": [
    "#---------------------FONCTIONS AUXILIAIRES\n",
    "# Génération de masque circulaire à partir d'une image, d'un centre et d'un rayon\n",
    "def genere_mask (image, centre, rayon):\n",
    "    shape = np.shape(image)\n",
    "    basex = np.arange(0,shape[0]); basey = np.arange(0, shape[1])\n",
    "    [i0,j0] = centre\n",
    "    mask = (basex[:,np.newaxis] - i0)**2 + (basey[np.newaxis,:]-j0)**2 < rayon**2\n",
    "    return mask\n",
    "\n",
    "# Détourage carré d'une image \n",
    "def crop_image (image,centre, rayon):\n",
    "    [i0,j0] = centre\n",
    "    image_cropped = image[int(i0 - rayon): int(i0 + rayon), int(j0 - rayon): int(j0 + rayon)]\n",
    "    return image_cropped\n",
    "\n",
    "# Checker si une valeur est comprise dans un intervalle\n",
    "def est_compris_entre(bbox_area,aire1,aire2):\n",
    "    aire_max = max(aire1,aire2);\n",
    "    aire_min = min(aire1,aire2);\n",
    "    return (bbox_area <= aire_max and bbox_area >= aire_min)\n",
    "\n",
    "# Normalisation de l'intensité d'une image entre 0 et 1\n",
    "def normalise(img):\n",
    "    norm = (img - np.min(img)) / (np.max(img) - np.min(img))\n",
    "    return norm"
   ]
  },
  {
   "cell_type": "code",
   "execution_count": 5,
   "metadata": {},
   "outputs": [],
   "source": [
    "#PARAMETRES GLOBAUX\n",
    "# Paramètre gamma pour la correction gamma\n",
    "gamma = 3\n",
    "\n",
    "# Taille de la fenêtre pour le seuillage local\n",
    "block_size_threshold = 17\n",
    "\n",
    "# Solidité minimale des particules (voir \"solidity\" dans la documentation Python ou dans le coeur du manuscrit)\n",
    "solidity_min = 0.87\n",
    "\n",
    "# Différence grand axe, petit axe d'une région\n",
    "dxymax = 4\n",
    "\n",
    "# Tailles (aires) minimales des petites et des grandes particules\n",
    "# Petites particules\n",
    "p_min_area = 9*10 \n",
    "p_max_area = 13*13\n",
    "\n",
    "# Grandes particules\n",
    "g_min_area = 13*14\n",
    "g_max_area = 16*16\n",
    "\n",
    "# Distance minimale inter-particules\n",
    "dmin = 19"
   ]
  },
  {
   "cell_type": "code",
   "execution_count": 6,
   "metadata": {},
   "outputs": [],
   "source": [
    "# Lecture de l'image\n",
    "image = io.imread(r'.\\image.tif', as_gray = True)\n",
    "\n",
    "# Chargement du centre et du rayon du domaine circulaire central\n",
    "rmax = np.loadtxt(r'.\\rmax.txt');\n",
    "centre = np.loadtxt(r'.\\centre.txt')"
   ]
  },
  {
   "cell_type": "code",
   "execution_count": 7,
   "metadata": {},
   "outputs": [],
   "source": [
    "# Normalisation de l'image\n",
    "image_normalise = normalise(image)\n",
    "\n",
    "# Création d'un masque sur les régions non-utiles (extérieur du domaine circulaire central)\n",
    "mask = genere_mask(image_normalise,centre,rmax)\n",
    "image_normalise[~mask] = 1\n",
    "\n",
    "# Détourage de l'image\n",
    "image_detoure = crop_image(image_normalise, centre,rmax)\n",
    "\n",
    "# Amélioration du contraste, ajustement gamma\n",
    "image_gamma = exposure.adjust_gamma(image_detoure,gamma)\n",
    "\n",
    "# Matrice de seuils locaux\n",
    "seuil_local = threshold_local(image_gamma, block_size_threshold)\n",
    "\n",
    "# Binarisation de l'image\n",
    "image_binaire = image_gamma > seuil_local"
   ]
  },
  {
   "cell_type": "code",
   "execution_count": 8,
   "metadata": {},
   "outputs": [],
   "source": [
    "# Technique du watershed pour créer des bassins, voir mes autres articles pour l'explication pas-à-pas\n",
    "distance = ndi.distance_transform_edt(image_binaire)\n",
    "l_min = morphology.local_minima(-distance)\n",
    "markers, _ = ndi.label(l_min)\n",
    "labels = watershed(-distance, markers = markers, mask=image_binaire)\n",
    "labels, _ = ndi.label(labels)\n",
    "\n",
    "\n",
    "# Récupération des propriétés des régions labellisées créées par le watershed\n",
    "regions = regionprops(labels)"
   ]
  },
  {
   "cell_type": "code",
   "execution_count": 9,
   "metadata": {},
   "outputs": [],
   "source": [
    "# Détection des particules\n",
    "labels_number = np.arange(1,np.max(labels)+1) # Récupération des numéros de toutes les régions labellisées\n",
    "# la liste \"taille\" va stocker les tailles pour chaque particule, petite : 1, grande : 2\n",
    "taille = []; \n",
    "# la liste \"x\" stocke la coordonnée x des particules\n",
    "x = []; \n",
    "# la liste \"y\" stocke la coordonnée y des particules\n",
    "y = []; \n",
    "# la liste 's' stocke la solidité des particules\n",
    "s = [];\n",
    "\n",
    "\n",
    "#Première sélection basée sur les attributs géométriques\n",
    "for label in labels_number :\n",
    "    region = [region for region in regions if region.label == label][0]\n",
    "\n",
    "    solidity = region.solidity # solidité de la région \n",
    "    centroid = region.centroid # coordonnées du centre de la région\n",
    "    b = region.bbox # coordonnées des coins du rectangle circonscrit à la région\n",
    "    b_area = region.bbox_area # aire du rectangle circonscrit à la région\n",
    "    dxy = abs(abs(b[2] - b[0]) - abs(b[3] - b[1])) # différence entre le grand et le petit axe de la région\n",
    "\n",
    "\n",
    "    if(solidity >= solidity_min and dxy <dxymax ): # Elimination des formes non circulaires\n",
    "        if (est_compris_entre(b_area, p_min_area, p_max_area)): # Récupération petites particules\n",
    "            x.append(centroid[1]); y.append(centroid[0])\n",
    "            s.append(solidity)\n",
    "            taille.append(1) # 1 = petite particule\n",
    "        else :\n",
    "            if (est_compris_entre(b_area, g_min_area, g_max_area)): # Récupération grosses particules\n",
    "                x.append(centroid[1]); y.append(centroid[0])\n",
    "                s.append(solidity)\n",
    "                taille.append(2) # 2 = grande particule"
   ]
  },
  {
   "cell_type": "code",
   "execution_count": 10,
   "metadata": {},
   "outputs": [],
   "source": [
    "# Deuxième sélection basée sur les distances inter-particules  \n",
    "# Cette partie est un raffinement, sur laquelle je pourrais écrire un article au besoin ;) \n",
    "count = np.zeros((len(x),1))\n",
    "for i in range(len(x) - 1):\n",
    "    for j in range(i+1,len(x)):\n",
    "        dist = np.sqrt((x[i] - x[j])**2 + (y[i] - y[j])**2)\n",
    "        if (dist < dmin):\n",
    "            count[i] +=1;\n",
    "            count[j] +=1;\n",
    "\n",
    "# Au sortir de cette étape, le vecteur \"count\" contient pour chaque particule le nombre de fois où la distance avec les voisins \n",
    "#-est inférieure à la distance inter-particules minimale, ce qui permet d'éliminer certaines régions\n",
    "        for k in [i,j]:\n",
    "            # condition d'élimination (on rajoute un critère sur la solidité pour plus de sécurité)\n",
    "            if count[k] >= 2 and s[k] < 0.95: # Donc forcément vide interstitiel \n",
    "                taille[k] = 0"
   ]
  },
  {
   "cell_type": "code",
   "execution_count": 11,
   "metadata": {},
   "outputs": [],
   "source": [
    "#Reconditionnment pour enregistrement : on transforme toutes les listes en vecteurs numpy\n",
    "taille = np.asarray(taille)\n",
    "x = np.asarray(x);\n",
    "y = np.asarray(y);\n",
    "s = np.asarray(s)\n",
    "\n",
    "# On ne conserve logiquement que les régions qui ont été catégorisées (soit 1 ou 2)\n",
    "x = x[taille != 0];   \n",
    "y = y[taille != 0];\n",
    "s = s[taille != 0];\n",
    "taille = taille[taille !=0];"
   ]
  },
  {
   "cell_type": "code",
   "execution_count": 14,
   "metadata": {},
   "outputs": [
    {
     "data": {
      "text/plain": [
       "(-0.5, 1041.5, 1041.5, -0.5)"
      ]
     },
     "execution_count": 14,
     "metadata": {},
     "output_type": "execute_result"
    }
   ],
   "source": [
    "# Affichage\n",
    "# Récupération des coordonnées des petites particules\n",
    "xp = x[taille == 1]; yp = y[taille == 1]\n",
    "\n",
    "# Récupération des coordonnées des grandes particules\n",
    "xg = x[taille == 2]; yg = y[taille == 2]\n",
    "\n",
    "# Figure\n",
    "plt.figure()\n",
    "plt.imshow(image_detoure, cmap = 'gray')\n",
    "pt = 15\n",
    "s = [pt] * len(xp)\n",
    "c =['r']* len(xp)\n",
    "plt.scatter(xp, yp, s = s, c= c)\n",
    "\n",
    "s = [pt] * len(xg)\n",
    "c =['b']* len(xg)\n",
    "plt.scatter(xg,yg, s = s, c= c)\n",
    "plt.gca().set_aspect('equal')\n",
    "\n",
    "plt.axis('off')"
   ]
  },
  {
   "cell_type": "code",
   "execution_count": null,
   "metadata": {},
   "outputs": [],
   "source": []
  }
 ],
 "metadata": {
  "kernelspec": {
   "display_name": "Python 3 (ipykernel)",
   "language": "python",
   "name": "python3"
  },
  "language_info": {
   "codemirror_mode": {
    "name": "ipython",
    "version": 3
   },
   "file_extension": ".py",
   "mimetype": "text/x-python",
   "name": "python",
   "nbconvert_exporter": "python",
   "pygments_lexer": "ipython3",
   "version": "3.9.7"
  }
 },
 "nbformat": 4,
 "nbformat_minor": 4
}
